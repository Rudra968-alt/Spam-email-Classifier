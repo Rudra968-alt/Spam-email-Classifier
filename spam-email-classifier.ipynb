{
 "cells": [
  {
   "cell_type": "markdown",
   "id": "8bca5fdd",
   "metadata": {
    "papermill": {
     "duration": 0.005263,
     "end_time": "2025-07-12T18:24:47.408756",
     "exception": false,
     "start_time": "2025-07-12T18:24:47.403493",
     "status": "completed"
    },
    "tags": []
   },
   "source": [
    "## Import Libraries"
   ]
  },
  {
   "cell_type": "code",
   "execution_count": 1,
   "id": "db8a35c8",
   "metadata": {
    "_cell_guid": "b1076dfc-b9ad-4769-8c92-a6c4dae69d19",
    "_uuid": "8f2839f25d086af736a60e9eeb907d3b93b6e0e5",
    "execution": {
     "iopub.execute_input": "2025-07-12T18:24:47.419773Z",
     "iopub.status.busy": "2025-07-12T18:24:47.419315Z",
     "iopub.status.idle": "2025-07-12T18:24:52.368091Z",
     "shell.execute_reply": "2025-07-12T18:24:52.367148Z"
    },
    "papermill": {
     "duration": 4.956407,
     "end_time": "2025-07-12T18:24:52.370063",
     "exception": false,
     "start_time": "2025-07-12T18:24:47.413656",
     "status": "completed"
    },
    "tags": []
   },
   "outputs": [
    {
     "name": "stdout",
     "output_type": "stream",
     "text": [
      "/kaggle/input/sms-spam-collection-dataset/spam.csv\n"
     ]
    }
   ],
   "source": [
    "import pandas as pd\n",
    "import seaborn as sns\n",
    "import matplotlib.pyplot as plt\n",
    "from sklearn.model_selection import train_test_split\n",
    "from sklearn.feature_extraction.text import TfidfVectorizer\n",
    "from sklearn.naive_bayes import MultinomialNB\n",
    "from sklearn.metrics import classification_report, confusion_matrix, accuracy_score, ConfusionMatrixDisplay\n",
    "from wordcloud import WordCloud\n",
    "\n",
    "import os\n",
    "for dirname, _, filenames in os.walk('/kaggle/input'):\n",
    "    for filename in filenames:\n",
    "        print(os.path.join(dirname, filename))\n"
   ]
  },
  {
   "cell_type": "markdown",
   "id": "5aeb5da8",
   "metadata": {
    "papermill": {
     "duration": 0.003684,
     "end_time": "2025-07-12T18:24:52.377999",
     "exception": false,
     "start_time": "2025-07-12T18:24:52.374315",
     "status": "completed"
    },
    "tags": []
   },
   "source": [
    "## Load and prepare the Dataset"
   ]
  },
  {
   "cell_type": "code",
   "execution_count": 2,
   "id": "5371e36a",
   "metadata": {
    "execution": {
     "iopub.execute_input": "2025-07-12T18:24:52.387275Z",
     "iopub.status.busy": "2025-07-12T18:24:52.386811Z",
     "iopub.status.idle": "2025-07-12T18:24:52.464881Z",
     "shell.execute_reply": "2025-07-12T18:24:52.463796Z"
    },
    "papermill": {
     "duration": 0.084564,
     "end_time": "2025-07-12T18:24:52.466433",
     "exception": false,
     "start_time": "2025-07-12T18:24:52.381869",
     "status": "completed"
    },
    "tags": []
   },
   "outputs": [
    {
     "data": {
      "text/html": [
       "<div>\n",
       "<style scoped>\n",
       "    .dataframe tbody tr th:only-of-type {\n",
       "        vertical-align: middle;\n",
       "    }\n",
       "\n",
       "    .dataframe tbody tr th {\n",
       "        vertical-align: top;\n",
       "    }\n",
       "\n",
       "    .dataframe thead th {\n",
       "        text-align: right;\n",
       "    }\n",
       "</style>\n",
       "<table border=\"1\" class=\"dataframe\">\n",
       "  <thead>\n",
       "    <tr style=\"text-align: right;\">\n",
       "      <th></th>\n",
       "      <th>label</th>\n",
       "      <th>message</th>\n",
       "      <th>label_num</th>\n",
       "    </tr>\n",
       "  </thead>\n",
       "  <tbody>\n",
       "    <tr>\n",
       "      <th>0</th>\n",
       "      <td>ham</td>\n",
       "      <td>Go until jurong point, crazy.. Available only ...</td>\n",
       "      <td>0</td>\n",
       "    </tr>\n",
       "    <tr>\n",
       "      <th>1</th>\n",
       "      <td>ham</td>\n",
       "      <td>Ok lar... Joking wif u oni...</td>\n",
       "      <td>0</td>\n",
       "    </tr>\n",
       "    <tr>\n",
       "      <th>2</th>\n",
       "      <td>spam</td>\n",
       "      <td>Free entry in 2 a wkly comp to win FA Cup fina...</td>\n",
       "      <td>1</td>\n",
       "    </tr>\n",
       "    <tr>\n",
       "      <th>3</th>\n",
       "      <td>ham</td>\n",
       "      <td>U dun say so early hor... U c already then say...</td>\n",
       "      <td>0</td>\n",
       "    </tr>\n",
       "    <tr>\n",
       "      <th>4</th>\n",
       "      <td>ham</td>\n",
       "      <td>Nah I don't think he goes to usf, he lives aro...</td>\n",
       "      <td>0</td>\n",
       "    </tr>\n",
       "    <tr>\n",
       "      <th>...</th>\n",
       "      <td>...</td>\n",
       "      <td>...</td>\n",
       "      <td>...</td>\n",
       "    </tr>\n",
       "    <tr>\n",
       "      <th>5567</th>\n",
       "      <td>spam</td>\n",
       "      <td>This is the 2nd time we have tried 2 contact u...</td>\n",
       "      <td>1</td>\n",
       "    </tr>\n",
       "    <tr>\n",
       "      <th>5568</th>\n",
       "      <td>ham</td>\n",
       "      <td>Will Ì_ b going to esplanade fr home?</td>\n",
       "      <td>0</td>\n",
       "    </tr>\n",
       "    <tr>\n",
       "      <th>5569</th>\n",
       "      <td>ham</td>\n",
       "      <td>Pity, * was in mood for that. So...any other s...</td>\n",
       "      <td>0</td>\n",
       "    </tr>\n",
       "    <tr>\n",
       "      <th>5570</th>\n",
       "      <td>ham</td>\n",
       "      <td>The guy did some bitching but I acted like i'd...</td>\n",
       "      <td>0</td>\n",
       "    </tr>\n",
       "    <tr>\n",
       "      <th>5571</th>\n",
       "      <td>ham</td>\n",
       "      <td>Rofl. Its true to its name</td>\n",
       "      <td>0</td>\n",
       "    </tr>\n",
       "  </tbody>\n",
       "</table>\n",
       "<p>5572 rows × 3 columns</p>\n",
       "</div>"
      ],
      "text/plain": [
       "     label                                            message  label_num\n",
       "0      ham  Go until jurong point, crazy.. Available only ...          0\n",
       "1      ham                      Ok lar... Joking wif u oni...          0\n",
       "2     spam  Free entry in 2 a wkly comp to win FA Cup fina...          1\n",
       "3      ham  U dun say so early hor... U c already then say...          0\n",
       "4      ham  Nah I don't think he goes to usf, he lives aro...          0\n",
       "...    ...                                                ...        ...\n",
       "5567  spam  This is the 2nd time we have tried 2 contact u...          1\n",
       "5568   ham              Will Ì_ b going to esplanade fr home?          0\n",
       "5569   ham  Pity, * was in mood for that. So...any other s...          0\n",
       "5570   ham  The guy did some bitching but I acted like i'd...          0\n",
       "5571   ham                         Rofl. Its true to its name          0\n",
       "\n",
       "[5572 rows x 3 columns]"
      ]
     },
     "execution_count": 2,
     "metadata": {},
     "output_type": "execute_result"
    }
   ],
   "source": [
    "df = pd.read_csv(\"/kaggle/input/sms-spam-collection-dataset/spam.csv\",encoding='latin-1')\n",
    "df = df[['v1','v2']]\n",
    "df.columns = ['label','message']\n",
    "df['label_num'] = df['label'].map({'ham':0,'spam':1})\n",
    "df"
   ]
  },
  {
   "cell_type": "code",
   "execution_count": 3,
   "id": "fdef54e2",
   "metadata": {
    "execution": {
     "iopub.execute_input": "2025-07-12T18:24:52.477282Z",
     "iopub.status.busy": "2025-07-12T18:24:52.476991Z",
     "iopub.status.idle": "2025-07-12T18:24:52.493923Z",
     "shell.execute_reply": "2025-07-12T18:24:52.492924Z"
    },
    "papermill": {
     "duration": 0.024805,
     "end_time": "2025-07-12T18:24:52.495858",
     "exception": false,
     "start_time": "2025-07-12T18:24:52.471053",
     "status": "completed"
    },
    "tags": []
   },
   "outputs": [
    {
     "data": {
      "text/html": [
       "<div>\n",
       "<style scoped>\n",
       "    .dataframe tbody tr th:only-of-type {\n",
       "        vertical-align: middle;\n",
       "    }\n",
       "\n",
       "    .dataframe tbody tr th {\n",
       "        vertical-align: top;\n",
       "    }\n",
       "\n",
       "    .dataframe thead th {\n",
       "        text-align: right;\n",
       "    }\n",
       "</style>\n",
       "<table border=\"1\" class=\"dataframe\">\n",
       "  <thead>\n",
       "    <tr style=\"text-align: right;\">\n",
       "      <th></th>\n",
       "      <th>label_num</th>\n",
       "    </tr>\n",
       "  </thead>\n",
       "  <tbody>\n",
       "    <tr>\n",
       "      <th>count</th>\n",
       "      <td>5572.000000</td>\n",
       "    </tr>\n",
       "    <tr>\n",
       "      <th>mean</th>\n",
       "      <td>0.134063</td>\n",
       "    </tr>\n",
       "    <tr>\n",
       "      <th>std</th>\n",
       "      <td>0.340751</td>\n",
       "    </tr>\n",
       "    <tr>\n",
       "      <th>min</th>\n",
       "      <td>0.000000</td>\n",
       "    </tr>\n",
       "    <tr>\n",
       "      <th>25%</th>\n",
       "      <td>0.000000</td>\n",
       "    </tr>\n",
       "    <tr>\n",
       "      <th>50%</th>\n",
       "      <td>0.000000</td>\n",
       "    </tr>\n",
       "    <tr>\n",
       "      <th>75%</th>\n",
       "      <td>0.000000</td>\n",
       "    </tr>\n",
       "    <tr>\n",
       "      <th>max</th>\n",
       "      <td>1.000000</td>\n",
       "    </tr>\n",
       "  </tbody>\n",
       "</table>\n",
       "</div>"
      ],
      "text/plain": [
       "         label_num\n",
       "count  5572.000000\n",
       "mean      0.134063\n",
       "std       0.340751\n",
       "min       0.000000\n",
       "25%       0.000000\n",
       "50%       0.000000\n",
       "75%       0.000000\n",
       "max       1.000000"
      ]
     },
     "execution_count": 3,
     "metadata": {},
     "output_type": "execute_result"
    }
   ],
   "source": [
    "df.describe()"
   ]
  },
  {
   "cell_type": "code",
   "execution_count": 4,
   "id": "27451f02",
   "metadata": {
    "execution": {
     "iopub.execute_input": "2025-07-12T18:24:52.506376Z",
     "iopub.status.busy": "2025-07-12T18:24:52.506002Z",
     "iopub.status.idle": "2025-07-12T18:24:52.529133Z",
     "shell.execute_reply": "2025-07-12T18:24:52.527935Z"
    },
    "papermill": {
     "duration": 0.030424,
     "end_time": "2025-07-12T18:24:52.530909",
     "exception": false,
     "start_time": "2025-07-12T18:24:52.500485",
     "status": "completed"
    },
    "tags": []
   },
   "outputs": [
    {
     "name": "stdout",
     "output_type": "stream",
     "text": [
      "<class 'pandas.core.frame.DataFrame'>\n",
      "RangeIndex: 5572 entries, 0 to 5571\n",
      "Data columns (total 3 columns):\n",
      " #   Column     Non-Null Count  Dtype \n",
      "---  ------     --------------  ----- \n",
      " 0   label      5572 non-null   object\n",
      " 1   message    5572 non-null   object\n",
      " 2   label_num  5572 non-null   int64 \n",
      "dtypes: int64(1), object(2)\n",
      "memory usage: 130.7+ KB\n"
     ]
    }
   ],
   "source": [
    "df.info()"
   ]
  },
  {
   "cell_type": "code",
   "execution_count": 5,
   "id": "7bbcd3cb",
   "metadata": {
    "execution": {
     "iopub.execute_input": "2025-07-12T18:24:52.543295Z",
     "iopub.status.busy": "2025-07-12T18:24:52.542482Z",
     "iopub.status.idle": "2025-07-12T18:24:52.552402Z",
     "shell.execute_reply": "2025-07-12T18:24:52.551380Z"
    },
    "papermill": {
     "duration": 0.01715,
     "end_time": "2025-07-12T18:24:52.554174",
     "exception": false,
     "start_time": "2025-07-12T18:24:52.537024",
     "status": "completed"
    },
    "tags": []
   },
   "outputs": [
    {
     "name": "stdout",
     "output_type": "stream",
     "text": [
      "Total duplicate rows = 403\n"
     ]
    }
   ],
   "source": [
    "duplicate_rows = df.duplicated().sum()\n",
    "print(f'Total duplicate rows = {duplicate_rows}')"
   ]
  },
  {
   "cell_type": "code",
   "execution_count": 6,
   "id": "8946690f",
   "metadata": {
    "execution": {
     "iopub.execute_input": "2025-07-12T18:24:52.565214Z",
     "iopub.status.busy": "2025-07-12T18:24:52.564356Z",
     "iopub.status.idle": "2025-07-12T18:24:52.571937Z",
     "shell.execute_reply": "2025-07-12T18:24:52.570866Z"
    },
    "papermill": {
     "duration": 0.014556,
     "end_time": "2025-07-12T18:24:52.573370",
     "exception": false,
     "start_time": "2025-07-12T18:24:52.558814",
     "status": "completed"
    },
    "tags": []
   },
   "outputs": [
    {
     "name": "stdout",
     "output_type": "stream",
     "text": [
      "label        0\n",
      "message      0\n",
      "label_num    0\n",
      "dtype: int64\n"
     ]
    }
   ],
   "source": [
    "print(df.isnull().sum())"
   ]
  },
  {
   "cell_type": "markdown",
   "id": "031835da",
   "metadata": {
    "papermill": {
     "duration": 0.004279,
     "end_time": "2025-07-12T18:24:52.583211",
     "exception": false,
     "start_time": "2025-07-12T18:24:52.578932",
     "status": "completed"
    },
    "tags": []
   },
   "source": [
    "## Class Distribution visualization"
   ]
  },
  {
   "cell_type": "code",
   "execution_count": 7,
   "id": "1260b602",
   "metadata": {
    "execution": {
     "iopub.execute_input": "2025-07-12T18:24:52.593578Z",
     "iopub.status.busy": "2025-07-12T18:24:52.593204Z",
     "iopub.status.idle": "2025-07-12T18:24:52.847793Z",
     "shell.execute_reply": "2025-07-12T18:24:52.846675Z"
    },
    "papermill": {
     "duration": 0.262065,
     "end_time": "2025-07-12T18:24:52.849655",
     "exception": false,
     "start_time": "2025-07-12T18:24:52.587590",
     "status": "completed"
    },
    "tags": []
   },
   "outputs": [
    {
     "data": {
      "image/png": "[encoded data removed]",
      "text/plain": [
       "<Figure size 600x400 with 1 Axes>"
      ]
     },
     "metadata": {},
     "output_type": "display_data"
    }
   ],
   "source": [
    "# Countplot\n",
    "plt.figure(figsize=(6,4))\n",
    "sns.countplot(data=df,x='label',palette='dark')\n",
    "plt.title('Spam vs Ham count')\n",
    "plt.xlabel('Label')\n",
    "plt.ylabel('Count')\n",
    "plt.show()"
   ]
  },
  {
   "cell_type": "markdown",
   "id": "e4300854",
   "metadata": {
    "papermill": {
     "duration": 0.004638,
     "end_time": "2025-07-12T18:24:52.860395",
     "exception": false,
     "start_time": "2025-07-12T18:24:52.855757",
     "status": "completed"
    },
    "tags": []
   },
   "source": []
  },
  {
   "cell_type": "code",
   "execution_count": 8,
   "id": "6afaef75",
   "metadata": {
    "execution": {
     "iopub.execute_input": "2025-07-12T18:24:52.871994Z",
     "iopub.status.busy": "2025-07-12T18:24:52.871594Z",
     "iopub.status.idle": "2025-07-12T18:24:53.047209Z",
     "shell.execute_reply": "2025-07-12T18:24:53.046228Z"
    },
    "papermill": {
     "duration": 0.183671,
     "end_time": "2025-07-12T18:24:53.048933",
     "exception": false,
     "start_time": "2025-07-12T18:24:52.865262",
     "status": "completed"
    },
    "tags": []
   },
   "outputs": [
    {
     "data": {
      "image/png": "[encoded data removed]",
      "text/plain": [
       "<Figure size 600x600 with 1 Axes>"
      ]
     },
     "metadata": {},
     "output_type": "display_data"
    }
   ],
   "source": [
    "# Pie Chart\n",
    "plt.figure(figsize=(6, 6))\n",
    "df['label'].value_counts().plot.pie(labels=[\"Ham\", \"Spam\"], colors=[\"yellow\", \"red\"])\n",
    "plt.title(\"Spam vs Ham Distribution (Pie Chart)\")\n",
    "plt.show()"
   ]
  },
  {
   "cell_type": "code",
   "execution_count": 9,
   "id": "918e60fb",
   "metadata": {
    "execution": {
     "iopub.execute_input": "2025-07-12T18:24:53.064339Z",
     "iopub.status.busy": "2025-07-12T18:24:53.064030Z",
     "iopub.status.idle": "2025-07-12T18:24:53.071466Z",
     "shell.execute_reply": "2025-07-12T18:24:53.070610Z"
    },
    "papermill": {
     "duration": 0.015539,
     "end_time": "2025-07-12T18:24:53.073077",
     "exception": false,
     "start_time": "2025-07-12T18:24:53.057538",
     "status": "completed"
    },
    "tags": []
   },
   "outputs": [],
   "source": [
    "# Add message length columns\n",
    "df['message_length'] = df['message'].apply(len)"
   ]
  },
  {
   "cell_type": "code",
   "execution_count": 10,
   "id": "7a7bcb71",
   "metadata": {
    "execution": {
     "iopub.execute_input": "2025-07-12T18:24:53.085748Z",
     "iopub.status.busy": "2025-07-12T18:24:53.085412Z",
     "iopub.status.idle": "2025-07-12T18:24:53.098330Z",
     "shell.execute_reply": "2025-07-12T18:24:53.097411Z"
    },
    "papermill": {
     "duration": 0.02158,
     "end_time": "2025-07-12T18:24:53.100611",
     "exception": false,
     "start_time": "2025-07-12T18:24:53.079031",
     "status": "completed"
    },
    "tags": []
   },
   "outputs": [
    {
     "data": {
      "text/html": [
       "<div>\n",
       "<style scoped>\n",
       "    .dataframe tbody tr th:only-of-type {\n",
       "        vertical-align: middle;\n",
       "    }\n",
       "\n",
       "    .dataframe tbody tr th {\n",
       "        vertical-align: top;\n",
       "    }\n",
       "\n",
       "    .dataframe thead th {\n",
       "        text-align: right;\n",
       "    }\n",
       "</style>\n",
       "<table border=\"1\" class=\"dataframe\">\n",
       "  <thead>\n",
       "    <tr style=\"text-align: right;\">\n",
       "      <th></th>\n",
       "      <th>label</th>\n",
       "      <th>message</th>\n",
       "      <th>label_num</th>\n",
       "      <th>message_length</th>\n",
       "    </tr>\n",
       "  </thead>\n",
       "  <tbody>\n",
       "    <tr>\n",
       "      <th>0</th>\n",
       "      <td>ham</td>\n",
       "      <td>Go until jurong point, crazy.. Available only ...</td>\n",
       "      <td>0</td>\n",
       "      <td>111</td>\n",
       "    </tr>\n",
       "    <tr>\n",
       "      <th>1</th>\n",
       "      <td>ham</td>\n",
       "      <td>Ok lar... Joking wif u oni...</td>\n",
       "      <td>0</td>\n",
       "      <td>29</td>\n",
       "    </tr>\n",
       "    <tr>\n",
       "      <th>2</th>\n",
       "      <td>spam</td>\n",
       "      <td>Free entry in 2 a wkly comp to win FA Cup fina...</td>\n",
       "      <td>1</td>\n",
       "      <td>155</td>\n",
       "    </tr>\n",
       "    <tr>\n",
       "      <th>3</th>\n",
       "      <td>ham</td>\n",
       "      <td>U dun say so early hor... U c already then say...</td>\n",
       "      <td>0</td>\n",
       "      <td>49</td>\n",
       "    </tr>\n",
       "    <tr>\n",
       "      <th>4</th>\n",
       "      <td>ham</td>\n",
       "      <td>Nah I don't think he goes to usf, he lives aro...</td>\n",
       "      <td>0</td>\n",
       "      <td>61</td>\n",
       "    </tr>\n",
       "    <tr>\n",
       "      <th>...</th>\n",
       "      <td>...</td>\n",
       "      <td>...</td>\n",
       "      <td>...</td>\n",
       "      <td>...</td>\n",
       "    </tr>\n",
       "    <tr>\n",
       "      <th>5567</th>\n",
       "      <td>spam</td>\n",
       "      <td>This is the 2nd time we have tried 2 contact u...</td>\n",
       "      <td>1</td>\n",
       "      <td>161</td>\n",
       "    </tr>\n",
       "    <tr>\n",
       "      <th>5568</th>\n",
       "      <td>ham</td>\n",
       "      <td>Will Ì_ b going to esplanade fr home?</td>\n",
       "      <td>0</td>\n",
       "      <td>37</td>\n",
       "    </tr>\n",
       "    <tr>\n",
       "      <th>5569</th>\n",
       "      <td>ham</td>\n",
       "      <td>Pity, * was in mood for that. So...any other s...</td>\n",
       "      <td>0</td>\n",
       "      <td>57</td>\n",
       "    </tr>\n",
       "    <tr>\n",
       "      <th>5570</th>\n",
       "      <td>ham</td>\n",
       "      <td>The guy did some bitching but I acted like i'd...</td>\n",
       "      <td>0</td>\n",
       "      <td>125</td>\n",
       "    </tr>\n",
       "    <tr>\n",
       "      <th>5571</th>\n",
       "      <td>ham</td>\n",
       "      <td>Rofl. Its true to its name</td>\n",
       "      <td>0</td>\n",
       "      <td>26</td>\n",
       "    </tr>\n",
       "  </tbody>\n",
       "</table>\n",
       "<p>5572 rows × 4 columns</p>\n",
       "</div>"
      ],
      "text/plain": [
       "     label                                            message  label_num  \\\n",
       "0      ham  Go until jurong point, crazy.. Available only ...          0   \n",
       "1      ham                      Ok lar... Joking wif u oni...          0   \n",
       "2     spam  Free entry in 2 a wkly comp to win FA Cup fina...          1   \n",
       "3      ham  U dun say so early hor... U c already then say...          0   \n",
       "4      ham  Nah I don't think he goes to usf, he lives aro...          0   \n",
       "...    ...                                                ...        ...   \n",
       "5567  spam  This is the 2nd time we have tried 2 contact u...          1   \n",
       "5568   ham              Will Ì_ b going to esplanade fr home?          0   \n",
       "5569   ham  Pity, * was in mood for that. So...any other s...          0   \n",
       "5570   ham  The guy did some bitching but I acted like i'd...          0   \n",
       "5571   ham                         Rofl. Its true to its name          0   \n",
       "\n",
       "      message_length  \n",
       "0                111  \n",
       "1                 29  \n",
       "2                155  \n",
       "3                 49  \n",
       "4                 61  \n",
       "...              ...  \n",
       "5567             161  \n",
       "5568              37  \n",
       "5569              57  \n",
       "5570             125  \n",
       "5571              26  \n",
       "\n",
       "[5572 rows x 4 columns]"
      ]
     },
     "execution_count": 10,
     "metadata": {},
     "output_type": "execute_result"
    }
   ],
   "source": [
    "df"
   ]
  },
  {
   "cell_type": "code",
   "execution_count": 11,
   "id": "2fcf3584",
   "metadata": {
    "execution": {
     "iopub.execute_input": "2025-07-12T18:24:53.115296Z",
     "iopub.status.busy": "2025-07-12T18:24:53.114960Z",
     "iopub.status.idle": "2025-07-12T18:24:53.270610Z",
     "shell.execute_reply": "2025-07-12T18:24:53.269643Z"
    },
    "papermill": {
     "duration": 0.16537,
     "end_time": "2025-07-12T18:24:53.272540",
     "exception": false,
     "start_time": "2025-07-12T18:24:53.107170",
     "status": "completed"
    },
    "tags": []
   },
   "outputs": [
    {
     "data": {
      "image/png": "[encoded data removed]",
      "text/plain": [
       "<Figure size 800x500 with 1 Axes>"
      ]
     },
     "metadata": {},
     "output_type": "display_data"
    }
   ],
   "source": [
    "# Boxplot\n",
    "plt.figure(figsize=(8,5))\n",
    "sns.boxplot(data=df,x='label',y='message_length')\n",
    "plt.title(\"Message Length Distribution by Label\")\n",
    "plt.xlabel(\"Label\")\n",
    "plt.ylabel(\"Message Length\")\n",
    "plt.show()"
   ]
  },
  {
   "cell_type": "code",
   "execution_count": 12,
   "id": "06d74932",
   "metadata": {
    "execution": {
     "iopub.execute_input": "2025-07-12T18:24:53.286779Z",
     "iopub.status.busy": "2025-07-12T18:24:53.286437Z",
     "iopub.status.idle": "2025-07-12T18:24:53.412642Z",
     "shell.execute_reply": "2025-07-12T18:24:53.411751Z"
    },
    "papermill": {
     "duration": 0.135785,
     "end_time": "2025-07-12T18:24:53.414495",
     "exception": false,
     "start_time": "2025-07-12T18:24:53.278710",
     "status": "completed"
    },
    "tags": []
   },
   "outputs": [],
   "source": [
    "X = df['message']\n",
    "y = df['label_num']  # Now encoded with LabelEncoder\n",
    "\n",
    "# Train-Test Split\n",
    "X_train, X_test, y_train, y_test = train_test_split(X, y, test_size=0.2, random_state=42)\n",
    "\n",
    "# TF-IDF Vectorization\n",
    "tfidf = TfidfVectorizer(stop_words='english', max_df=0.7)\n",
    "X_train_tfidf = tfidf.fit_transform(X_train)\n",
    "X_test_tfidf = tfidf.transform(X_test)\n"
   ]
  },
  {
   "cell_type": "code",
   "execution_count": 13,
   "id": "47020db3",
   "metadata": {
    "execution": {
     "iopub.execute_input": "2025-07-12T18:24:53.427883Z",
     "iopub.status.busy": "2025-07-12T18:24:53.427527Z",
     "iopub.status.idle": "2025-07-12T18:24:53.463073Z",
     "shell.execute_reply": "2025-07-12T18:24:53.462057Z"
    },
    "papermill": {
     "duration": 0.044403,
     "end_time": "2025-07-12T18:24:53.464745",
     "exception": false,
     "start_time": "2025-07-12T18:24:53.420342",
     "status": "completed"
    },
    "tags": []
   },
   "outputs": [
    {
     "data": {
      "text/html": [
       "<style>#sk-container-id-1 {color: black;background-color: white;}#sk-container-id-1 pre{padding: 0;}#sk-container-id-1 div.sk-toggleable {background-color: white;}#sk-container-id-1 label.sk-toggleable__label {cursor: pointer;display: block;width: 100%;margin-bottom: 0;padding: 0.3em;box-sizing: border-box;text-align: center;}#sk-container-id-1 label.sk-toggleable__label-arrow:before {content: \"▸\";float: left;margin-right: 0.25em;color: #696969;}#sk-container-id-1 label.sk-toggleable__label-arrow:hover:before {color: black;}#sk-container-id-1 div.sk-estimator:hover label.sk-toggleable__label-arrow:before {color: black;}#sk-container-id-1 div.sk-toggleable__content {max-height: 0;max-width: 0;overflow: hidden;text-align: left;background-color: #f0f8ff;}#sk-container-id-1 div.sk-toggleable__content pre {margin: 0.2em;color: black;border-radius: 0.25em;background-color: #f0f8ff;}#sk-container-id-1 input.sk-toggleable__control:checked~div.sk-toggleable__content {max-height: 200px;max-width: 100%;overflow: auto;}#sk-container-id-1 input.sk-toggleable__control:checked~label.sk-toggleable__label-arrow:before {content: \"▾\";}#sk-container-id-1 div.sk-estimator input.sk-toggleable__control:checked~label.sk-toggleable__label {background-color: #d4ebff;}#sk-container-id-1 div.sk-label input.sk-toggleable__control:checked~label.sk-toggleable__label {background-color: #d4ebff;}#sk-container-id-1 input.sk-hidden--visually {border: 0;clip: rect(1px 1px 1px 1px);clip: rect(1px, 1px, 1px, 1px);height: 1px;margin: -1px;overflow: hidden;padding: 0;position: absolute;width: 1px;}#sk-container-id-1 div.sk-estimator {font-family: monospace;background-color: #f0f8ff;border: 1px dotted black;border-radius: 0.25em;box-sizing: border-box;margin-bottom: 0.5em;}#sk-container-id-1 div.sk-estimator:hover {background-color: #d4ebff;}#sk-container-id-1 div.sk-parallel-item::after {content: \"\";width: 100%;border-bottom: 1px solid gray;flex-grow: 1;}#sk-container-id-1 div.sk-label:hover label.sk-toggleable__label {background-color: #d4ebff;}#sk-container-id-1 div.sk-serial::before {content: \"\";position: absolute;border-left: 1px solid gray;box-sizing: border-box;top: 0;bottom: 0;left: 50%;z-index: 0;}#sk-container-id-1 div.sk-serial {display: flex;flex-direction: column;align-items: center;background-color: white;padding-right: 0.2em;padding-left: 0.2em;position: relative;}#sk-container-id-1 div.sk-item {position: relative;z-index: 1;}#sk-container-id-1 div.sk-parallel {display: flex;align-items: stretch;justify-content: center;background-color: white;position: relative;}#sk-container-id-1 div.sk-item::before, #sk-container-id-1 div.sk-parallel-item::before {content: \"\";position: absolute;border-left: 1px solid gray;box-sizing: border-box;top: 0;bottom: 0;left: 50%;z-index: -1;}#sk-container-id-1 div.sk-parallel-item {display: flex;flex-direction: column;z-index: 1;position: relative;background-color: white;}#sk-container-id-1 div.sk-parallel-item:first-child::after {align-self: flex-end;width: 50%;}#sk-container-id-1 div.sk-parallel-item:last-child::after {align-self: flex-start;width: 50%;}#sk-container-id-1 div.sk-parallel-item:only-child::after {width: 0;}#sk-container-id-1 div.sk-dashed-wrapped {border: 1px dashed gray;margin: 0 0.4em 0.5em 0.4em;box-sizing: border-box;padding-bottom: 0.4em;background-color: white;}#sk-container-id-1 div.sk-label label {font-family: monospace;font-weight: bold;display: inline-block;line-height: 1.2em;}#sk-container-id-1 div.sk-label-container {text-align: center;}#sk-container-id-1 div.sk-container {/* jupyter's `normalize.less` sets `[hidden] { display: none; }` but bootstrap.min.css set `[hidden] { display: none !important; }` so we also need the `!important` here to be able to override the default hidden behavior on the sphinx rendered scikit-learn.org. See: https://github.com/scikit-learn/scikit-learn/issues/21755 */display: inline-block !important;position: relative;}#sk-container-id-1 div.sk-text-repr-fallback {display: none;}</style><div id=\"sk-container-id-1\" class=\"sk-top-container\"><div class=\"sk-text-repr-fallback\"><pre>MultinomialNB()</pre><b>In a Jupyter environment, please rerun this cell to show the HTML representation or trust the notebook. <br />On GitHub, the HTML representation is unable to render, please try loading this page with nbviewer.org.</b></div><div class=\"sk-container\" hidden><div class=\"sk-item\"><div class=\"sk-estimator sk-toggleable\"><input class=\"sk-toggleable__control sk-hidden--visually\" id=\"sk-estimator-id-1\" type=\"checkbox\" checked><label for=\"sk-estimator-id-1\" class=\"sk-toggleable__label sk-toggleable__label-arrow\">MultinomialNB</label><div class=\"sk-toggleable__content\"><pre>MultinomialNB()</pre></div></div></div></div></div>"
      ],
      "text/plain": [
       "MultinomialNB()"
      ]
     },
     "execution_count": 13,
     "metadata": {},
     "output_type": "execute_result"
    }
   ],
   "source": [
    "model = MultinomialNB()\n",
    "model.fit(X_train_tfidf, y_train)\n"
   ]
  },
  {
   "cell_type": "code",
   "execution_count": 14,
   "id": "15f81a05",
   "metadata": {
    "execution": {
     "iopub.execute_input": "2025-07-12T18:24:53.478764Z",
     "iopub.status.busy": "2025-07-12T18:24:53.478409Z",
     "iopub.status.idle": "2025-07-12T18:24:53.485009Z",
     "shell.execute_reply": "2025-07-12T18:24:53.484129Z"
    },
    "papermill": {
     "duration": 0.014986,
     "end_time": "2025-07-12T18:24:53.486519",
     "exception": false,
     "start_time": "2025-07-12T18:24:53.471533",
     "status": "completed"
    },
    "tags": []
   },
   "outputs": [],
   "source": [
    "from sklearn.preprocessing import LabelEncoder\n",
    "\n",
    "le = LabelEncoder()\n",
    "df['label_num'] = le.fit_transform(df['label'])  # 'ham' → 0, 'spam' → 1\n"
   ]
  },
  {
   "cell_type": "code",
   "execution_count": 15,
   "id": "61568b96",
   "metadata": {
    "execution": {
     "iopub.execute_input": "2025-07-12T18:24:53.501153Z",
     "iopub.status.busy": "2025-07-12T18:24:53.500846Z",
     "iopub.status.idle": "2025-07-12T18:24:53.517429Z",
     "shell.execute_reply": "2025-07-12T18:24:53.516186Z"
    },
    "papermill": {
     "duration": 0.025784,
     "end_time": "2025-07-12T18:24:53.519116",
     "exception": false,
     "start_time": "2025-07-12T18:24:53.493332",
     "status": "completed"
    },
    "tags": []
   },
   "outputs": [
    {
     "name": "stdout",
     "output_type": "stream",
     "text": [
      "\n",
      "Classification Report:\n",
      "               precision    recall  f1-score   support\n",
      "\n",
      "         ham       0.96      1.00      0.98       965\n",
      "        spam       1.00      0.75      0.86       150\n",
      "\n",
      "    accuracy                           0.97      1115\n",
      "   macro avg       0.98      0.88      0.92      1115\n",
      "weighted avg       0.97      0.97      0.96      1115\n",
      "\n",
      "Accuracy Score: 0.9668161434977578\n"
     ]
    }
   ],
   "source": [
    "y_pred = model.predict(X_test_tfidf)\n",
    "\n",
    "# Classification report and accuracy\n",
    "print(\"\\nClassification Report:\\n\", classification_report(y_test, y_pred, target_names=le.classes_))\n",
    "print(\"Accuracy Score:\", accuracy_score(y_test, y_pred))\n"
   ]
  },
  {
   "cell_type": "code",
   "execution_count": 16,
   "id": "cb6ee167",
   "metadata": {
    "execution": {
     "iopub.execute_input": "2025-07-12T18:24:53.533236Z",
     "iopub.status.busy": "2025-07-12T18:24:53.532880Z",
     "iopub.status.idle": "2025-07-12T18:24:53.903976Z",
     "shell.execute_reply": "2025-07-12T18:24:53.903026Z"
    },
    "papermill": {
     "duration": 0.380131,
     "end_time": "2025-07-12T18:24:53.905607",
     "exception": false,
     "start_time": "2025-07-12T18:24:53.525476",
     "status": "completed"
    },
    "tags": []
   },
   "outputs": [
    {
     "data": {
      "image/png": "[encoded data removed]",
      "text/plain": [
       "<Figure size 600x400 with 2 Axes>"
      ]
     },
     "metadata": {},
     "output_type": "display_data"
    },
    {
     "data": {
      "image/png": "[encoded data removed]",
      "text/plain": [
       "<Figure size 640x480 with 2 Axes>"
      ]
     },
     "metadata": {},
     "output_type": "display_data"
    }
   ],
   "source": [
    "# Confusion matrix (heatmap)\n",
    "conf_matrix = confusion_matrix(y_test, y_pred)\n",
    "plt.figure(figsize=(6, 4))\n",
    "sns.heatmap(conf_matrix, annot=True, fmt='d', cmap='Blues', xticklabels=le.classes_, yticklabels=le.classes_)\n",
    "plt.title(\"Confusion Matrix\")\n",
    "plt.xlabel(\"Predicted\")\n",
    "plt.ylabel(\"Actual\")\n",
    "plt.show()\n",
    "\n",
    "# Display version\n",
    "ConfusionMatrixDisplay.from_estimator(model, X_test_tfidf, y_test,\n",
    "                                      display_labels=le.classes_,\n",
    "                                      cmap='Blues',\n",
    "                                      values_format='d')\n",
    "plt.title(\"Enhanced Confusion Matrix\")\n",
    "plt.show()\n"
   ]
  },
  {
   "cell_type": "markdown",
   "id": "eeaa1734",
   "metadata": {
    "papermill": {
     "duration": 0.006969,
     "end_time": "2025-07-12T18:24:53.920698",
     "exception": false,
     "start_time": "2025-07-12T18:24:53.913729",
     "status": "completed"
    },
    "tags": []
   },
   "source": [
    "## Now we have to test this model to analyze the accuracy of the model by inputting custom made messages "
   ]
  },
  {
   "cell_type": "code",
   "execution_count": 17,
   "id": "e97f12fe",
   "metadata": {
    "execution": {
     "iopub.execute_input": "2025-07-12T18:24:53.936419Z",
     "iopub.status.busy": "2025-07-12T18:24:53.936108Z",
     "iopub.status.idle": "2025-07-12T18:24:53.945248Z",
     "shell.execute_reply": "2025-07-12T18:24:53.944267Z"
    },
    "papermill": {
     "duration": 0.019009,
     "end_time": "2025-07-12T18:24:53.946667",
     "exception": false,
     "start_time": "2025-07-12T18:24:53.927658",
     "status": "completed"
    },
    "tags": []
   },
   "outputs": [
    {
     "name": "stdout",
     "output_type": "stream",
     "text": [
      " Hey, how are you doing today? => [HAM] \n",
      " Claim your FREE voucher now!!! => [SPAM] \n",
      " Reminder: Your appointment is tomorrow at 10 AM. => [HAM] \n",
      " Winner! You have been selected for a cash reward. => [SPAM] \n",
      " Hello, Iam busy at my work => [HAM] \n"
     ]
    }
   ],
   "source": [
    "sample_messages = [\n",
    "    \"Hey, how are you doing today?\",\n",
    "    \"Claim your FREE voucher now!!!\",\n",
    "    \"Reminder: Your appointment is tomorrow at 10 AM.\",\n",
    "    \"Winner! You have been selected for a cash reward.\",\n",
    "    \"Hello, Iam busy at my work\"\n",
    "]\n",
    "\n",
    "sample_vectors = tfidf.transform(sample_messages)\n",
    "predictions = model.predict(sample_vectors)\n",
    "labels = le.inverse_transform(predictions)\n",
    "\n",
    "# Show results\n",
    "for msg, lbl in zip(sample_messages, labels):\n",
    "    print(f\" {msg} => [{lbl.upper()}] \")\n"
   ]
  }
 ],
 "metadata": {
  "kaggle": {
   "accelerator": "none",
   "dataSources": [
    {
     "datasetId": 483,
     "sourceId": 982,
     "sourceType": "datasetVersion"
    }
   ],
   "dockerImageVersionId": 31089,
   "isGpuEnabled": false,
   "isInternetEnabled": false,
   "language": "python",
   "sourceType": "notebook"
  },
  "kernelspec": {
   "display_name": "Python 3",
   "language": "python",
   "name": "python3"
  },
  "language_info": {
   "codemirror_mode": {
    "name": "ipython",
    "version": 3
   },
   "file_extension": ".py",
   "mimetype": "text/x-python",
   "name": "python",
   "nbconvert_exporter": "python",
   "pygments_lexer": "ipython3",
   "version": "3.11.13"
  },
  "papermill": {
   "default_parameters": {},
   "duration": 12.571626,
   "end_time": "2025-07-12T18:24:54.775364",
   "environment_variables": {},
   "exception": null,
   "input_path": "__notebook__.ipynb",
   "output_path": "__notebook__.ipynb",
   "parameters": {},
   "start_time": "2025-07-12T18:24:42.203738",
   "version": "2.6.0"
  }
 },
 "nbformat": 4,
 "nbformat_minor": 5
}
